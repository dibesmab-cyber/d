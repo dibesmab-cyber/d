{
  "nbformat": 4,
  "nbformat_minor": 0,
  "metadata": {
    "colab": {
      "provenance": [],
      "gpuType": "T4"
    },
    "kernelspec": {
      "name": "python3",
      "display_name": "Python 3"
    },
    "language_info": {
      "name": "python"
    },
    "accelerator": "GPU"
  },
  "cells": [
    {
      "cell_type": "code",
      "execution_count": 2,
      "metadata": {
        "colab": {
          "base_uri": "https://localhost:8080/"
        },
        "id": "OdcR2CqNnYFP",
        "outputId": "45c405fe-a99e-4f63-fdfc-27e89c11bdc3"
      },
      "outputs": [
        {
          "output_type": "stream",
          "name": "stdout",
          "text": [
            "Requirement already satisfied: pandas in /usr/local/lib/python3.12/dist-packages (2.2.2)\n",
            "Requirement already satisfied: matplotlib in /usr/local/lib/python3.12/dist-packages (3.10.0)\n",
            "Requirement already satisfied: seaborn in /usr/local/lib/python3.12/dist-packages (0.13.2)\n",
            "Requirement already satisfied: numpy>=1.26.0 in /usr/local/lib/python3.12/dist-packages (from pandas) (2.0.2)\n",
            "Requirement already satisfied: python-dateutil>=2.8.2 in /usr/local/lib/python3.12/dist-packages (from pandas) (2.9.0.post0)\n",
            "Requirement already satisfied: pytz>=2020.1 in /usr/local/lib/python3.12/dist-packages (from pandas) (2025.2)\n",
            "Requirement already satisfied: tzdata>=2022.7 in /usr/local/lib/python3.12/dist-packages (from pandas) (2025.2)\n",
            "Requirement already satisfied: contourpy>=1.0.1 in /usr/local/lib/python3.12/dist-packages (from matplotlib) (1.3.3)\n",
            "Requirement already satisfied: cycler>=0.10 in /usr/local/lib/python3.12/dist-packages (from matplotlib) (0.12.1)\n",
            "Requirement already satisfied: fonttools>=4.22.0 in /usr/local/lib/python3.12/dist-packages (from matplotlib) (4.59.2)\n",
            "Requirement already satisfied: kiwisolver>=1.3.1 in /usr/local/lib/python3.12/dist-packages (from matplotlib) (1.4.9)\n",
            "Requirement already satisfied: packaging>=20.0 in /usr/local/lib/python3.12/dist-packages (from matplotlib) (25.0)\n",
            "Requirement already satisfied: pillow>=8 in /usr/local/lib/python3.12/dist-packages (from matplotlib) (11.3.0)\n",
            "Requirement already satisfied: pyparsing>=2.3.1 in /usr/local/lib/python3.12/dist-packages (from matplotlib) (3.2.3)\n",
            "Requirement already satisfied: six>=1.5 in /usr/local/lib/python3.12/dist-packages (from python-dateutil>=2.8.2->pandas) (1.17.0)\n"
          ]
        }
      ],
      "source": [
        "!pip install pandas matplotlib seaborn"
      ]
    },
    {
      "cell_type": "code",
      "source": [
        "import pandas as pd\n",
        "import matplotlib.pyplot as plt\n",
        "import seaborn as sns\n",
        "import matplotlib.pyplot as plt\n",
        "from sklearn.model_selection import train_test_split\n",
        "from sklearn.feature_extraction.text import TfidfVectorizer\n",
        "from sklearn.linear_model import LogisticRegression\n",
        "from sklearn.metrics import classification_report, confusion_matrix\n",
        "import re\n",
        "import string\n",
        "import nltk\n",
        "from nltk.corpus import stopwords"
      ],
      "metadata": {
        "id": "EhcHcfnOnakf"
      },
      "execution_count": 3,
      "outputs": []
    },
    {
      "cell_type": "code",
      "source": [
        "df = pd.read_csv(\"/content/500veri.csv\")"
      ],
      "metadata": {
        "id": "Z8fQ4OvR0JCp"
      },
      "execution_count": 4,
      "outputs": []
    },
    {
      "cell_type": "code",
      "source": [
        "\n",
        "print(\"Tekrarlayan satır sayısı\", df.duplicated().sum())\n"
      ],
      "metadata": {
        "colab": {
          "base_uri": "https://localhost:8080/"
        },
        "id": "_DBC2b04YQFy",
        "outputId": "d4a803f0-76b5-4bd7-e608-1e28bc37825f"
      },
      "execution_count": 5,
      "outputs": [
        {
          "output_type": "stream",
          "name": "stdout",
          "text": [
            "Tekrarlayan satır sayısı 0\n"
          ]
        }
      ]
    },
    {
      "cell_type": "code",
      "source": [
        "# veriyle ilgili temel incelemeler\n",
        "\n",
        "print(\"🔹 Veri Boyutu:\", df.shape)\n",
        "print(\"\\n🔹 İlk 5 Satır:\")\n",
        "print(df.head()) #direkt df.head(5) de olur genel yapıyı görmek/kontrol etmek için\n",
        "\n",
        "print(\"\\n🔹 Veri Hakkında Bilgi:\")\n",
        "print(df.info())\n",
        "\n",
        "print(\"\\n🔹 Eksik Değerler:\")\n",
        "print(df.isnull().sum())\n",
        "\n",
        "print(\"\\n🔹 Temel İstatistikler:\")\n",
        "print(df.describe()) #sayısal sutunlar icin\n",
        "df.describe(include='object') #kategorik sutunlar icin"
      ],
      "metadata": {
        "colab": {
          "base_uri": "https://localhost:8080/",
          "height": 1000
        },
        "id": "D1-bbPcMYTNy",
        "outputId": "d192e36d-fd5f-4536-d68d-51ba86f29785"
      },
      "execution_count": 6,
      "outputs": [
        {
          "output_type": "stream",
          "name": "stdout",
          "text": [
            "🔹 Veri Boyutu: (516, 3)\n",
            "\n",
            "🔹 İlk 5 Satır:\n",
            "   Duygu         Yorum Yapan  \\\n",
            "0      1  @sezginsenucar9897   \n",
            "1      1        @alieralp798   \n",
            "2      1  @ufukdikilitas9297   \n",
            "3      1             @mdnmzz   \n",
            "4      1         @odin_fatih   \n",
            "\n",
            "                                               Yorum  \n",
            "0  DERHAL  GEREKEN YAPILSIN YA   YETER ARTIK ÜLKE...  \n",
            "1  Başlayan soruşturma Ali Erbaş tan başlatılması...  \n",
            "2            Boşuna uğraşmayın, onlara bi şey olmaz!  \n",
            "3                                 Akharamiler istifa  \n",
            "4  Vergiden kaçınmadır, vergi kaçırma değil nasıl...  \n",
            "\n",
            "🔹 Veri Hakkında Bilgi:\n",
            "<class 'pandas.core.frame.DataFrame'>\n",
            "RangeIndex: 516 entries, 0 to 515\n",
            "Data columns (total 3 columns):\n",
            " #   Column       Non-Null Count  Dtype \n",
            "---  ------       --------------  ----- \n",
            " 0   Duygu        516 non-null    int64 \n",
            " 1   Yorum Yapan  516 non-null    object\n",
            " 2   Yorum        516 non-null    object\n",
            "dtypes: int64(1), object(2)\n",
            "memory usage: 12.2+ KB\n",
            "None\n",
            "\n",
            "🔹 Eksik Değerler:\n",
            "Duygu          0\n",
            "Yorum Yapan    0\n",
            "Yorum          0\n",
            "dtype: int64\n",
            "\n",
            "🔹 Temel İstatistikler:\n",
            "            Duygu\n",
            "count  516.000000\n",
            "mean     1.879845\n",
            "std      0.953838\n",
            "min      1.000000\n",
            "25%      1.000000\n",
            "50%      1.000000\n",
            "75%      3.000000\n",
            "max      3.000000\n"
          ]
        },
        {
          "output_type": "execute_result",
          "data": {
            "text/plain": [
              "           Yorum Yapan               Yorum\n",
              "count              516                 516\n",
              "unique             489                 514\n",
              "top     @ilkbahar9_9_9  Diyanet kapatılsın\n",
              "freq                 4                   2"
            ],
            "text/html": [
              "\n",
              "  <div id=\"df-0fdad054-349a-4930-b50c-153be8d566ca\" class=\"colab-df-container\">\n",
              "    <div>\n",
              "<style scoped>\n",
              "    .dataframe tbody tr th:only-of-type {\n",
              "        vertical-align: middle;\n",
              "    }\n",
              "\n",
              "    .dataframe tbody tr th {\n",
              "        vertical-align: top;\n",
              "    }\n",
              "\n",
              "    .dataframe thead th {\n",
              "        text-align: right;\n",
              "    }\n",
              "</style>\n",
              "<table border=\"1\" class=\"dataframe\">\n",
              "  <thead>\n",
              "    <tr style=\"text-align: right;\">\n",
              "      <th></th>\n",
              "      <th>Yorum Yapan</th>\n",
              "      <th>Yorum</th>\n",
              "    </tr>\n",
              "  </thead>\n",
              "  <tbody>\n",
              "    <tr>\n",
              "      <th>count</th>\n",
              "      <td>516</td>\n",
              "      <td>516</td>\n",
              "    </tr>\n",
              "    <tr>\n",
              "      <th>unique</th>\n",
              "      <td>489</td>\n",
              "      <td>514</td>\n",
              "    </tr>\n",
              "    <tr>\n",
              "      <th>top</th>\n",
              "      <td>@ilkbahar9_9_9</td>\n",
              "      <td>Diyanet kapatılsın</td>\n",
              "    </tr>\n",
              "    <tr>\n",
              "      <th>freq</th>\n",
              "      <td>4</td>\n",
              "      <td>2</td>\n",
              "    </tr>\n",
              "  </tbody>\n",
              "</table>\n",
              "</div>\n",
              "    <div class=\"colab-df-buttons\">\n",
              "\n",
              "  <div class=\"colab-df-container\">\n",
              "    <button class=\"colab-df-convert\" onclick=\"convertToInteractive('df-0fdad054-349a-4930-b50c-153be8d566ca')\"\n",
              "            title=\"Convert this dataframe to an interactive table.\"\n",
              "            style=\"display:none;\">\n",
              "\n",
              "  <svg xmlns=\"http://www.w3.org/2000/svg\" height=\"24px\" viewBox=\"0 -960 960 960\">\n",
              "    <path d=\"M120-120v-720h720v720H120Zm60-500h600v-160H180v160Zm220 220h160v-160H400v160Zm0 220h160v-160H400v160ZM180-400h160v-160H180v160Zm440 0h160v-160H620v160ZM180-180h160v-160H180v160Zm440 0h160v-160H620v160Z\"/>\n",
              "  </svg>\n",
              "    </button>\n",
              "\n",
              "  <style>\n",
              "    .colab-df-container {\n",
              "      display:flex;\n",
              "      gap: 12px;\n",
              "    }\n",
              "\n",
              "    .colab-df-convert {\n",
              "      background-color: #E8F0FE;\n",
              "      border: none;\n",
              "      border-radius: 50%;\n",
              "      cursor: pointer;\n",
              "      display: none;\n",
              "      fill: #1967D2;\n",
              "      height: 32px;\n",
              "      padding: 0 0 0 0;\n",
              "      width: 32px;\n",
              "    }\n",
              "\n",
              "    .colab-df-convert:hover {\n",
              "      background-color: #E2EBFA;\n",
              "      box-shadow: 0px 1px 2px rgba(60, 64, 67, 0.3), 0px 1px 3px 1px rgba(60, 64, 67, 0.15);\n",
              "      fill: #174EA6;\n",
              "    }\n",
              "\n",
              "    .colab-df-buttons div {\n",
              "      margin-bottom: 4px;\n",
              "    }\n",
              "\n",
              "    [theme=dark] .colab-df-convert {\n",
              "      background-color: #3B4455;\n",
              "      fill: #D2E3FC;\n",
              "    }\n",
              "\n",
              "    [theme=dark] .colab-df-convert:hover {\n",
              "      background-color: #434B5C;\n",
              "      box-shadow: 0px 1px 3px 1px rgba(0, 0, 0, 0.15);\n",
              "      filter: drop-shadow(0px 1px 2px rgba(0, 0, 0, 0.3));\n",
              "      fill: #FFFFFF;\n",
              "    }\n",
              "  </style>\n",
              "\n",
              "    <script>\n",
              "      const buttonEl =\n",
              "        document.querySelector('#df-0fdad054-349a-4930-b50c-153be8d566ca button.colab-df-convert');\n",
              "      buttonEl.style.display =\n",
              "        google.colab.kernel.accessAllowed ? 'block' : 'none';\n",
              "\n",
              "      async function convertToInteractive(key) {\n",
              "        const element = document.querySelector('#df-0fdad054-349a-4930-b50c-153be8d566ca');\n",
              "        const dataTable =\n",
              "          await google.colab.kernel.invokeFunction('convertToInteractive',\n",
              "                                                    [key], {});\n",
              "        if (!dataTable) return;\n",
              "\n",
              "        const docLinkHtml = 'Like what you see? Visit the ' +\n",
              "          '<a target=\"_blank\" href=https://colab.research.google.com/notebooks/data_table.ipynb>data table notebook</a>'\n",
              "          + ' to learn more about interactive tables.';\n",
              "        element.innerHTML = '';\n",
              "        dataTable['output_type'] = 'display_data';\n",
              "        await google.colab.output.renderOutput(dataTable, element);\n",
              "        const docLink = document.createElement('div');\n",
              "        docLink.innerHTML = docLinkHtml;\n",
              "        element.appendChild(docLink);\n",
              "      }\n",
              "    </script>\n",
              "  </div>\n",
              "\n",
              "\n",
              "    <div id=\"df-a773d6c9-3a4c-43d3-bb20-820a6a728100\">\n",
              "      <button class=\"colab-df-quickchart\" onclick=\"quickchart('df-a773d6c9-3a4c-43d3-bb20-820a6a728100')\"\n",
              "                title=\"Suggest charts\"\n",
              "                style=\"display:none;\">\n",
              "\n",
              "<svg xmlns=\"http://www.w3.org/2000/svg\" height=\"24px\"viewBox=\"0 0 24 24\"\n",
              "     width=\"24px\">\n",
              "    <g>\n",
              "        <path d=\"M19 3H5c-1.1 0-2 .9-2 2v14c0 1.1.9 2 2 2h14c1.1 0 2-.9 2-2V5c0-1.1-.9-2-2-2zM9 17H7v-7h2v7zm4 0h-2V7h2v10zm4 0h-2v-4h2v4z\"/>\n",
              "    </g>\n",
              "</svg>\n",
              "      </button>\n",
              "\n",
              "<style>\n",
              "  .colab-df-quickchart {\n",
              "      --bg-color: #E8F0FE;\n",
              "      --fill-color: #1967D2;\n",
              "      --hover-bg-color: #E2EBFA;\n",
              "      --hover-fill-color: #174EA6;\n",
              "      --disabled-fill-color: #AAA;\n",
              "      --disabled-bg-color: #DDD;\n",
              "  }\n",
              "\n",
              "  [theme=dark] .colab-df-quickchart {\n",
              "      --bg-color: #3B4455;\n",
              "      --fill-color: #D2E3FC;\n",
              "      --hover-bg-color: #434B5C;\n",
              "      --hover-fill-color: #FFFFFF;\n",
              "      --disabled-bg-color: #3B4455;\n",
              "      --disabled-fill-color: #666;\n",
              "  }\n",
              "\n",
              "  .colab-df-quickchart {\n",
              "    background-color: var(--bg-color);\n",
              "    border: none;\n",
              "    border-radius: 50%;\n",
              "    cursor: pointer;\n",
              "    display: none;\n",
              "    fill: var(--fill-color);\n",
              "    height: 32px;\n",
              "    padding: 0;\n",
              "    width: 32px;\n",
              "  }\n",
              "\n",
              "  .colab-df-quickchart:hover {\n",
              "    background-color: var(--hover-bg-color);\n",
              "    box-shadow: 0 1px 2px rgba(60, 64, 67, 0.3), 0 1px 3px 1px rgba(60, 64, 67, 0.15);\n",
              "    fill: var(--button-hover-fill-color);\n",
              "  }\n",
              "\n",
              "  .colab-df-quickchart-complete:disabled,\n",
              "  .colab-df-quickchart-complete:disabled:hover {\n",
              "    background-color: var(--disabled-bg-color);\n",
              "    fill: var(--disabled-fill-color);\n",
              "    box-shadow: none;\n",
              "  }\n",
              "\n",
              "  .colab-df-spinner {\n",
              "    border: 2px solid var(--fill-color);\n",
              "    border-color: transparent;\n",
              "    border-bottom-color: var(--fill-color);\n",
              "    animation:\n",
              "      spin 1s steps(1) infinite;\n",
              "  }\n",
              "\n",
              "  @keyframes spin {\n",
              "    0% {\n",
              "      border-color: transparent;\n",
              "      border-bottom-color: var(--fill-color);\n",
              "      border-left-color: var(--fill-color);\n",
              "    }\n",
              "    20% {\n",
              "      border-color: transparent;\n",
              "      border-left-color: var(--fill-color);\n",
              "      border-top-color: var(--fill-color);\n",
              "    }\n",
              "    30% {\n",
              "      border-color: transparent;\n",
              "      border-left-color: var(--fill-color);\n",
              "      border-top-color: var(--fill-color);\n",
              "      border-right-color: var(--fill-color);\n",
              "    }\n",
              "    40% {\n",
              "      border-color: transparent;\n",
              "      border-right-color: var(--fill-color);\n",
              "      border-top-color: var(--fill-color);\n",
              "    }\n",
              "    60% {\n",
              "      border-color: transparent;\n",
              "      border-right-color: var(--fill-color);\n",
              "    }\n",
              "    80% {\n",
              "      border-color: transparent;\n",
              "      border-right-color: var(--fill-color);\n",
              "      border-bottom-color: var(--fill-color);\n",
              "    }\n",
              "    90% {\n",
              "      border-color: transparent;\n",
              "      border-bottom-color: var(--fill-color);\n",
              "    }\n",
              "  }\n",
              "</style>\n",
              "\n",
              "      <script>\n",
              "        async function quickchart(key) {\n",
              "          const quickchartButtonEl =\n",
              "            document.querySelector('#' + key + ' button');\n",
              "          quickchartButtonEl.disabled = true;  // To prevent multiple clicks.\n",
              "          quickchartButtonEl.classList.add('colab-df-spinner');\n",
              "          try {\n",
              "            const charts = await google.colab.kernel.invokeFunction(\n",
              "                'suggestCharts', [key], {});\n",
              "          } catch (error) {\n",
              "            console.error('Error during call to suggestCharts:', error);\n",
              "          }\n",
              "          quickchartButtonEl.classList.remove('colab-df-spinner');\n",
              "          quickchartButtonEl.classList.add('colab-df-quickchart-complete');\n",
              "        }\n",
              "        (() => {\n",
              "          let quickchartButtonEl =\n",
              "            document.querySelector('#df-a773d6c9-3a4c-43d3-bb20-820a6a728100 button');\n",
              "          quickchartButtonEl.style.display =\n",
              "            google.colab.kernel.accessAllowed ? 'block' : 'none';\n",
              "        })();\n",
              "      </script>\n",
              "    </div>\n",
              "\n",
              "    </div>\n",
              "  </div>\n"
            ],
            "application/vnd.google.colaboratory.intrinsic+json": {
              "type": "dataframe",
              "summary": "{\n  \"name\": \"df\",\n  \"rows\": 4,\n  \"fields\": [\n    {\n      \"column\": \"Yorum Yapan\",\n      \"properties\": {\n        \"dtype\": \"string\",\n        \"num_unique_values\": 4,\n        \"samples\": [\n          489,\n          \"4\",\n          \"516\"\n        ],\n        \"semantic_type\": \"\",\n        \"description\": \"\"\n      }\n    },\n    {\n      \"column\": \"Yorum\",\n      \"properties\": {\n        \"dtype\": \"string\",\n        \"num_unique_values\": 4,\n        \"samples\": [\n          514,\n          \"2\",\n          \"516\"\n        ],\n        \"semantic_type\": \"\",\n        \"description\": \"\"\n      }\n    }\n  ]\n}"
            }
          },
          "metadata": {},
          "execution_count": 6
        }
      ]
    },
    {
      "cell_type": "code",
      "source": [
        "for col in df.columns:\n",
        "    print(f\"{col}: {df[col].nunique()} benzersiz değer\")"
      ],
      "metadata": {
        "colab": {
          "base_uri": "https://localhost:8080/"
        },
        "id": "i81seSjiYW65",
        "outputId": "199eb05c-9f7e-423a-d1b4-a6f8ba9eca5a"
      },
      "execution_count": 7,
      "outputs": [
        {
          "output_type": "stream",
          "name": "stdout",
          "text": [
            "Duygu: 3 benzersiz değer\n",
            "Yorum Yapan: 489 benzersiz değer\n",
            "Yorum: 514 benzersiz değer\n"
          ]
        }
      ]
    },
    {
      "cell_type": "code",
      "source": [
        "numeric_cols = [col for col in df.columns if df[col].dtype == 'int']\n",
        "for col in numeric_cols:\n",
        "    print(f\"\\n{col} dağılımı:\")\n",
        "    print(df[col].value_counts().head(10))"
      ],
      "metadata": {
        "colab": {
          "base_uri": "https://localhost:8080/"
        },
        "id": "tbMJa_f9YawS",
        "outputId": "997ea0c9-7674-43d2-b247-97543090de18"
      },
      "execution_count": 8,
      "outputs": [
        {
          "output_type": "stream",
          "name": "stdout",
          "text": [
            "\n",
            "Duygu dağılımı:\n",
            "Duygu\n",
            "1    269\n",
            "3    207\n",
            "2     40\n",
            "Name: count, dtype: int64\n"
          ]
        }
      ]
    },
    {
      "cell_type": "code",
      "source": [],
      "metadata": {
        "id": "8Isi-TrKFZdo"
      },
      "execution_count": null,
      "outputs": []
    },
    {
      "cell_type": "code",
      "source": [
        "\n",
        "df.hist(figsize=(3,2), bins=10)\n",
        "plt.show()"
      ],
      "metadata": {
        "colab": {
          "base_uri": "https://localhost:8080/",
          "height": 237
        },
        "id": "Hhz7Qjk3Yeci",
        "outputId": "71472d01-3067-4461-b15e-469df421e81d"
      },
      "execution_count": 9,
      "outputs": [
        {
          "output_type": "display_data",
          "data": {
            "text/plain": [
              "<Figure size 300x200 with 1 Axes>"
            ],
            "image/png": "[encoded data removed]"
          },
          "metadata": {}
        }
      ]
    },
    {
      "cell_type": "code",
      "source": [
        "# Numerik kolonlar\n",
        "\n",
        "skewness = df[numeric_cols].skew()\n",
        "kurtosis = df[numeric_cols].kurtosis()\n",
        "\n",
        "#sonuclar\n",
        "skew_kurt_df = pd.DataFrame({'Skewness': skewness, 'Kurtosis': kurtosis})\n",
        "print(\"📊 Skewness ve Kurtosis:\")\n",
        "print(skew_kurt_df)\n",
        "\n",
        "#skewness çarpıklık 0a yakın normal, pozitif sağ çarpık, negatif sol çarpık\n",
        "#kurtosis basıklık 0 normale yakın, >0 sivri, <0 basık dağılım"
      ],
      "metadata": {
        "colab": {
          "base_uri": "https://localhost:8080/"
        },
        "id": "lbZNE-R8ZHnO",
        "outputId": "ab192f22-0b42-4d28-b32a-8de9d954e00b"
      },
      "execution_count": 10,
      "outputs": [
        {
          "output_type": "stream",
          "name": "stdout",
          "text": [
            "📊 Skewness ve Kurtosis:\n",
            "       Skewness  Kurtosis\n",
            "Duygu  0.242125 -1.861489\n"
          ]
        }
      ]
    },
    {
      "cell_type": "code",
      "source": [
        "for col in numeric_cols:\n",
        "    plt.figure(figsize=(3,2))\n",
        "    sns.histplot(df[col], kde=True, color=\"pink\", bins=10)  # kernel density estimate\n",
        "    plt.title(f\"{col} - Histogram & KDE\")\n",
        "    plt.xlabel(col)\n",
        "    plt.ylabel(\"Frekans\")\n",
        "    plt.show()"
      ],
      "metadata": {
        "colab": {
          "base_uri": "https://localhost:8080/",
          "height": 256
        },
        "id": "w5vRg3F6ZK1n",
        "outputId": "51c2cc1b-aa53-4fa2-a20d-53f6759f8ca9"
      },
      "execution_count": 11,
      "outputs": [
        {
          "output_type": "display_data",
          "data": {
            "text/plain": [
              "<Figure size 300x200 with 1 Axes>"
            ],
            "image/png": "[encoded data removed]"
          },
          "metadata": {}
        }
      ]
    },
    {
      "cell_type": "code",
      "source": [
        "\n",
        "nltk.download('stopwords')\n",
        "\n",
        "turkish_stopwords = set(stopwords.words('turkish'))\n",
        "\n",
        "def clean_text(text):\n",
        "    if pd.isnull(text):\n",
        "        return \"\"\n",
        "    text = text.lower()\n",
        "\n",
        "    text = re.sub(r'[^\\w\\sçğıöşü]', ' ', text) #özel karakterleri kaldır\n",
        "    text = re.sub(r'\\d+', '', text)\n",
        "    text = text.translate(str.maketrans('', '', string.punctuation))\n",
        "    text = ' '.join([word for word in text.split() if word not in turkish_stopwords])\n",
        "    text = re.sub(r'\\s+', ' ', text).strip()\n",
        "\n",
        "    return text\n",
        "df = pd.read_csv(\"/content/500veri.csv\")\n",
        "df[\"Temiz_Yorum\"] = df[\"Yorum\"].apply(clean_text)\n",
        "\n",
        "df.to_csv(\"veriler_temiz.csv\", index=False)\n",
        "\n",
        "print(\"✅ Temizlenmiş yorumlar 'veriler_temiz.csv' dosyasına kaydedildi!\")\n"
      ],
      "metadata": {
        "colab": {
          "base_uri": "https://localhost:8080/"
        },
        "id": "VnQds1TLcWj-",
        "outputId": "e72beb31-df2a-4fb1-ff57-eb907b2edb28"
      },
      "execution_count": 12,
      "outputs": [
        {
          "output_type": "stream",
          "name": "stdout",
          "text": [
            "✅ Temizlenmiş yorumlar 'veriler_temiz.csv' dosyasına kaydedildi!\n"
          ]
        },
        {
          "output_type": "stream",
          "name": "stderr",
          "text": [
            "[nltk_data] Downloading package stopwords to /root/nltk_data...\n",
            "[nltk_data]   Unzipping corpora/stopwords.zip.\n"
          ]
        }
      ]
    },
    {
      "cell_type": "code",
      "source": [
        "import pandas as pd\n",
        "from sklearn.model_selection import train_test_split\n",
        "from sklearn.feature_extraction.text import TfidfVectorizer\n",
        "from sklearn.linear_model import LogisticRegression\n",
        "from sklearn.metrics import classification_report, confusion_matrix\n"
      ],
      "metadata": {
        "id": "H1_2kKn_vVoJ"
      },
      "execution_count": 13,
      "outputs": []
    },
    {
      "cell_type": "code",
      "source": [
        "df = pd.read_csv(\"/content/veriler_temiz.csv\")\n",
        "\n",
        "print(df.head())\n",
        "print(df.columns)"
      ],
      "metadata": {
        "colab": {
          "base_uri": "https://localhost:8080/"
        },
        "id": "wbwq8f1_vfc4",
        "outputId": "ef823346-5e97-43e5-ef50-e93eb1dcc347"
      },
      "execution_count": 14,
      "outputs": [
        {
          "output_type": "stream",
          "name": "stdout",
          "text": [
            "   Duygu         Yorum Yapan  \\\n",
            "0      1  @sezginsenucar9897   \n",
            "1      1        @alieralp798   \n",
            "2      1  @ufukdikilitas9297   \n",
            "3      1             @mdnmzz   \n",
            "4      1         @odin_fatih   \n",
            "\n",
            "                                               Yorum  \\\n",
            "0  DERHAL  GEREKEN YAPILSIN YA   YETER ARTIK ÜLKE...   \n",
            "1  Başlayan soruşturma Ali Erbaş tan başlatılması...   \n",
            "2            Boşuna uğraşmayın, onlara bi şey olmaz!   \n",
            "3                                 Akharamiler istifa   \n",
            "4  Vergiden kaçınmadır, vergi kaçırma değil nasıl...   \n",
            "\n",
            "                                         Temiz_Yorum  \n",
            "0  derhal gereken yapilsin yeter artik ülkede aca...  \n",
            "1  başlayan soruşturma ali erbaş tan başlatılması...  \n",
            "2                  boşuna uğraşmayın onlara bi olmaz  \n",
            "3                                 akharamiler istifa  \n",
            "4  vergiden kaçınmadır vergi kaçırma değil olsa m...  \n",
            "Index(['Duygu', 'Yorum Yapan', 'Yorum', 'Temiz_Yorum'], dtype='object')\n"
          ]
        }
      ]
    },
    {
      "cell_type": "code",
      "source": [
        "\n",
        "df = pd.read_csv(\"/content/veriler_temiz.csv\")\n",
        "\n",
        "df = df[['Temiz_Yorum', 'Duygu']]\n",
        "X = df['Temiz_Yorum']\n",
        "y = df['Duygu']\n",
        "\n",
        "X_train, X_test, y_train, y_test = train_test_split(\n",
        "    X, y, test_size=0.2, random_state=42, stratify=y\n",
        ")\n",
        "\n",
        "vectorizer = TfidfVectorizer()\n",
        "X_train_vec = vectorizer.fit_transform(X_train)\n",
        "X_test_vec = vectorizer.transform(X_test)\n",
        "\n",
        "\n",
        "model = LogisticRegression(max_iter=1000)\n",
        "model.fit(X_train_vec, y_train)\n",
        "\n",
        "\n",
        "y_pred = model.predict(X_test_vec)\n",
        "\n",
        "print(\"Sınıflandırma Raporu:\\n\")\n",
        "print(classification_report(y_test, y_pred, target_names=[\"Negatif\", \"Notr\", \"Pozitif\"]))\n",
        "\n",
        "print(\"Karmaşıklık Matrisi:\\n\")\n",
        "cm=confusion_matrix(y_test, y_pred)\n",
        "print(cm)\n",
        "\n",
        "labels = [\"Negatif\", \"Notr\", \"Pozitif\"]\n",
        "\n",
        "plt.figure(figsize=(4,3))\n",
        "sns.heatmap(cm, annot=True, fmt=\"d\", cmap=\"Blues\", xticklabels=labels, yticklabels=labels)\n",
        "plt.xlabel(\"Tahmin Edilen Sınıf\")\n",
        "plt.ylabel(\"Gerçek Sınıf\")\n",
        "plt.show()"
      ],
      "metadata": {
        "colab": {
          "base_uri": "https://localhost:8080/",
          "height": 751
        },
        "id": "w0pFG7nvZxrm",
        "outputId": "ceea1279-fe40-4c91-a2d4-a8adbae76c9c"
      },
      "execution_count": 15,
      "outputs": [
        {
          "output_type": "stream",
          "name": "stdout",
          "text": [
            "Sınıflandırma Raporu:\n",
            "\n",
            "              precision    recall  f1-score   support\n",
            "\n",
            "     Negatif       0.72      0.91      0.80        54\n",
            "        Notr       0.00      0.00      0.00         8\n",
            "     Pozitif       0.86      0.74      0.79        42\n",
            "\n",
            "    accuracy                           0.77       104\n",
            "   macro avg       0.53      0.55      0.53       104\n",
            "weighted avg       0.72      0.77      0.74       104\n",
            "\n",
            "Karmaşıklık Matrisi:\n",
            "\n",
            "[[49  0  5]\n",
            " [ 8  0  0]\n",
            " [11  0 31]]\n"
          ]
        },
        {
          "output_type": "stream",
          "name": "stderr",
          "text": [
            "/usr/local/lib/python3.12/dist-packages/sklearn/metrics/_classification.py:1565: UndefinedMetricWarning: Precision is ill-defined and being set to 0.0 in labels with no predicted samples. Use `zero_division` parameter to control this behavior.\n",
            "  _warn_prf(average, modifier, f\"{metric.capitalize()} is\", len(result))\n",
            "/usr/local/lib/python3.12/dist-packages/sklearn/metrics/_classification.py:1565: UndefinedMetricWarning: Precision is ill-defined and being set to 0.0 in labels with no predicted samples. Use `zero_division` parameter to control this behavior.\n",
            "  _warn_prf(average, modifier, f\"{metric.capitalize()} is\", len(result))\n",
            "/usr/local/lib/python3.12/dist-packages/sklearn/metrics/_classification.py:1565: UndefinedMetricWarning: Precision is ill-defined and being set to 0.0 in labels with no predicted samples. Use `zero_division` parameter to control this behavior.\n",
            "  _warn_prf(average, modifier, f\"{metric.capitalize()} is\", len(result))\n"
          ]
        },
        {
          "output_type": "display_data",
          "data": {
            "text/plain": [
              "<Figure size 400x300 with 2 Axes>"
            ],
            "image/png": "[encoded data removed]"
          },
          "metadata": {}
        }
      ]
    },
    {
      "cell_type": "code",
      "source": [
        "\n",
        "df = pd.read_csv(\"/content/veriler_temiz.csv\")\n",
        "\n",
        "df = df[['Yorum', 'Duygu']] # buraya temiz yorum sutunu gelecek\n",
        "\n",
        "\n",
        "X_train, X_test, y_train, y_test = train_test_split(\n",
        "    df['Yorum'], df['Duygu'], test_size=0.2, random_state=42\n",
        ")\n",
        "\n",
        "\n",
        "vectorizer = TfidfVectorizer()\n",
        "X_train_vec = vectorizer.fit_transform(X_train)\n",
        "X_test_vec = vectorizer.transform(X_test)\n",
        "\n",
        "\n",
        "model = LogisticRegression(max_iter=1000)\n",
        "model.fit(X_train_vec, y_train)\n",
        "\n",
        "\n",
        "y_pred = model.predict(X_test_vec)\n",
        "\n",
        "\n",
        "print(\"Sınıflandırma Raporu:\\n\")\n",
        "print(classification_report(y_test, y_pred, target_names=[\"Negatif\", \"Notr\", \"Pozitif\"]))\n",
        "\n",
        "print(\"Karmaşıklık Matrisi:\\n\")\n",
        "cm=confusion_matrix(y_test, y_pred)\n",
        "print(cm)\n",
        "\n",
        "labels = [\"Negatif\", \"Notr\", \"Pozitif\"]\n",
        "\n",
        "plt.figure(figsize=(4,3))\n",
        "sns.heatmap(cm, annot=True, fmt=\"d\", cmap=\"Blues\", xticklabels=labels, yticklabels=labels)\n",
        "plt.xlabel(\"Tahmin Edilen Sınıf\")\n",
        "plt.ylabel(\"Gerçek Sınıf\")\n",
        "plt.show()"
      ],
      "metadata": {
        "colab": {
          "base_uri": "https://localhost:8080/",
          "height": 751
        },
        "id": "rjUIoCggcmw3",
        "outputId": "d8288dd5-eec3-444e-fd38-ecb5d9ba04a0"
      },
      "execution_count": 17,
      "outputs": [
        {
          "output_type": "stream",
          "name": "stdout",
          "text": [
            "Sınıflandırma Raporu:\n",
            "\n",
            "              precision    recall  f1-score   support\n",
            "\n",
            "     Negatif       0.78      0.93      0.85        58\n",
            "        Notr       0.00      0.00      0.00         8\n",
            "     Pozitif       0.89      0.82      0.85        38\n",
            "\n",
            "    accuracy                           0.82       104\n",
            "   macro avg       0.56      0.58      0.57       104\n",
            "weighted avg       0.76      0.82      0.78       104\n",
            "\n",
            "Karmaşıklık Matrisi:\n",
            "\n",
            "[[54  0  4]\n",
            " [ 8  0  0]\n",
            " [ 7  0 31]]\n"
          ]
        },
        {
          "output_type": "stream",
          "name": "stderr",
          "text": [
            "/usr/local/lib/python3.12/dist-packages/sklearn/metrics/_classification.py:1565: UndefinedMetricWarning: Precision is ill-defined and being set to 0.0 in labels with no predicted samples. Use `zero_division` parameter to control this behavior.\n",
            "  _warn_prf(average, modifier, f\"{metric.capitalize()} is\", len(result))\n",
            "/usr/local/lib/python3.12/dist-packages/sklearn/metrics/_classification.py:1565: UndefinedMetricWarning: Precision is ill-defined and being set to 0.0 in labels with no predicted samples. Use `zero_division` parameter to control this behavior.\n",
            "  _warn_prf(average, modifier, f\"{metric.capitalize()} is\", len(result))\n",
            "/usr/local/lib/python3.12/dist-packages/sklearn/metrics/_classification.py:1565: UndefinedMetricWarning: Precision is ill-defined and being set to 0.0 in labels with no predicted samples. Use `zero_division` parameter to control this behavior.\n",
            "  _warn_prf(average, modifier, f\"{metric.capitalize()} is\", len(result))\n"
          ]
        },
        {
          "output_type": "display_data",
          "data": {
            "text/plain": [
              "<Figure size 400x300 with 2 Axes>"
            ],
            "image/png": "[encoded data removed]"
          },
          "metadata": {}
        }
      ]
    },
    {
      "cell_type": "code",
      "source": [
        "#NÖTR İÇİN AUGMENTATION DENEDİM\n",
        "!pip install nlpaug transformers sentencepiece pandas\n",
        "import pandas as pd\n",
        "import nlpaug.augmenter.word as naw\n",
        "\n",
        "\n",
        "df = pd.read_csv(\"/content/veriler_temiz.csv\")\n",
        "\n",
        "\n",
        "neutral_df = df[df['Duygu'] == 2]\n",
        "neutral_texts = neutral_df['Yorum'].tolist()\n",
        "\n",
        "aug = naw.ContextualWordEmbsAug(\n",
        "    model_path='bert-base-multilingual-cased',\n",
        "    action=\"substitute\"\n",
        ")\n",
        "\n",
        "\n",
        "augmented_texts = []\n",
        "for text in neutral_texts:\n",
        "    augmented = aug.augment(text, n=3)\n",
        "    augmented_texts.extend(augmented)\n",
        "\n",
        "# augmented veriyidf olarak hazırla\n",
        "aug_df = pd.DataFrame({\n",
        "    \"Duygu\": [2]*len(augmented_texts),\n",
        "    \"Yorum Yapan\": [\"Augmented\"]*len(augmented_texts), #yeni eklenen yorum yapan kısmına augmented etiketi yazılxcak\n",
        "    \"Yorum\": augmented_texts\n",
        "})\n",
        "\n",
        "\n",
        "new_df = pd.concat([df, aug_df], ignore_index=True) #birleştirmr\n",
        "\n",
        "\n",
        "new_df.to_csv(\"dataset_augmented.csv\", index=False, encoding=\"utf-8-sig\")\n",
        "\n",
        "print(\"Augmentation tamamlandı dosya 'dataset_augmented.csv' olarak kaydedildi\")\n",
        "print(f\"Temel nötr cümle sayısı: {len(neutral_texts)}\")\n",
        "print(f\"Augmented nötr cümle sayısı: {len(augmented_texts)}\")\n"
      ],
      "metadata": {
        "id": "puCTXNHy2Fqw"
      },
      "execution_count": null,
      "outputs": []
    },
    {
      "cell_type": "code",
      "source": [
        "#augmented verileri temizledim.\n",
        "nltk.download('stopwords')\n",
        "\n",
        "turkish_stopwords = set(stopwords.words('turkish'))\n",
        "\n",
        "def clean_text(text):\n",
        "    if pd.isnull(text):\n",
        "        return \"\"\n",
        "\n",
        "    text = text.lower()\n",
        "    text = re.sub(r'[^\\w\\sçğıöşü]', ' ', text)\n",
        "    text = re.sub(r'\\d+', '', text)\n",
        "    text = text.translate(str.maketrans('', '', string.punctuation))\n",
        "    text = ' '.join([word for word in text.split() if word not in turkish_stopwords])\n",
        "\n",
        "    text = re.sub(r'\\s+', ' ', text).strip()\n",
        "\n",
        "    return text\n",
        "\n",
        "df = pd.read_csv(\"/content/dataset_augmented.csv\")\n",
        "\n",
        "df[\"Temiz_Yorum\"] = df[\"Yorum\"].apply(clean_text)\n",
        "\n",
        "df.to_csv(\"augmented500.csv\", index=False)\n",
        "\n",
        "print(\"✅ Temizlenmiş yorumlar 'augmented500' dosyasına kaydedildi!\")\n"
      ],
      "metadata": {
        "colab": {
          "base_uri": "https://localhost:8080/"
        },
        "id": "sXUDOM978SnQ",
        "outputId": "87047baa-446e-4d01-fbca-70b691e9bc48"
      },
      "execution_count": null,
      "outputs": [
        {
          "output_type": "stream",
          "name": "stdout",
          "text": [
            "✅ Temizlenmiş yorumlar 'augmented500' dosyasına kaydedildi!\n"
          ]
        },
        {
          "output_type": "stream",
          "name": "stderr",
          "text": [
            "[nltk_data] Downloading package stopwords to /root/nltk_data...\n",
            "[nltk_data]   Package stopwords is already up-to-date!\n"
          ]
        }
      ]
    },
    {
      "cell_type": "code",
      "source": [
        "#AUGMENTED veri için sınıflandırma sonucu\n",
        "\n",
        "\n",
        "df = pd.read_csv(\"/content/augmented500.csv\")\n",
        "\n",
        "df = df[['Yorum', 'Duygu']]\n",
        "\n",
        "\n",
        "X_train, X_test, y_train, y_test = train_test_split(\n",
        "    df['Yorum'], df['Duygu'], test_size=0.2, random_state=42\n",
        ")\n",
        "\n",
        "vectorizer = TfidfVectorizer()\n",
        "X_train_vec = vectorizer.fit_transform(X_train)\n",
        "X_test_vec = vectorizer.transform(X_test)\n",
        "\n",
        "model = LogisticRegression(max_iter=1000)\n",
        "model.fit(X_train_vec, y_train)\n",
        "\n",
        "y_pred = model.predict(X_test_vec)\n",
        "\n",
        "print(\"Sınıflandırma Raporu:\\n\")\n",
        "print(classification_report(y_test, y_pred, target_names=[\"Negatif\", \"Notr\", \"Pozitif\"]))\n",
        "\n",
        "print(\"Karmaşıklık Matrisi:\\n\")\n",
        "print(confusion_matrix(y_test, y_pred))"
      ],
      "metadata": {
        "colab": {
          "base_uri": "https://localhost:8080/"
        },
        "id": "p3adCN9M8rFJ",
        "outputId": "69062098-acbc-49e7-bcde-cb9f5b9d6d20"
      },
      "execution_count": null,
      "outputs": [
        {
          "output_type": "stream",
          "name": "stdout",
          "text": [
            "Sınıflandırma Raporu:\n",
            "\n",
            "              precision    recall  f1-score   support\n",
            "\n",
            "     Negatif       0.70      0.94      0.80        49\n",
            "        Notr       0.89      0.65      0.75        37\n",
            "     Pozitif       0.91      0.76      0.83        42\n",
            "\n",
            "    accuracy                           0.80       128\n",
            "   macro avg       0.83      0.78      0.79       128\n",
            "weighted avg       0.82      0.80      0.80       128\n",
            "\n",
            "Karmaşıklık Matrisi:\n",
            "\n",
            "[[46  2  1]\n",
            " [11 24  2]\n",
            " [ 9  1 32]]\n"
          ]
        }
      ]
    },
    {
      "cell_type": "code",
      "source": [
        "\n",
        "df = pd.read_csv(\"/content/veriler_temiz.csv\")\n",
        "\n",
        "# pozitif negatif sözlük\n",
        "pozitif_kelimeler = [\n",
        "    \"harika\", \"mükemmel\", \"razı olsun\", \"teşekkürler\", \"sağlık\", \"beğendim\", \"teşekkür\", \"sayenizde\", \"mutlu\", \"sevdim\",\"helal olsun\",\"bravo\"\n",
        "]\n",
        "negatif_kelimeler = [\n",
        "    \"yazık\", \"berbat\", \"rezalet\", \"iğrenç\", \"kapatıl\", \"rüşvet\", \"iftira\", \"fena\", \"çürüme\", \"kapatılmalı\", \"istifa\", \"bıyık\",\"soruşturma\",\"yeter\",\"suç\"\n",
        "]\n",
        "\n",
        "\n",
        "def kelime_bazli_duygu(yorum):\n",
        "    pozitif_sayi = sum(1 for kelime in pozitif_kelimeler if kelime in yorum)\n",
        "    negatif_sayi = sum(1 for kelime in negatif_kelimeler if kelime in yorum)\n",
        "\n",
        "    if pozitif_sayi > negatif_sayi:\n",
        "        return \"Pozitif\"\n",
        "    elif negatif_sayi > pozitif_sayi:\n",
        "        return \"Negatif\"\n",
        "    else:\n",
        "        return \"Nötr\"\n",
        "\n",
        "#her yorum icin fonksiyonu cagır\n",
        "df[\"Tahmin\"] = df[\"Temiz_Yorum\"].apply(kelime_bazli_duygu)\n",
        "\n",
        "\n",
        "print(\"Kelime bazlı duygu analizi dağılımı:\")\n",
        "print(df[\"Tahmin\"].value_counts())\n",
        "\n",
        "\n",
        "plt.figure(figsize=(3,3))\n",
        "df[\"Tahmin\"].value_counts().plot.pie(autopct=\"%1.1f%%\", colors=sns.color_palette(\"Set2\"))\n",
        "plt.title(\"Kelime Bazlı Duygu Analizi Dağılımı\")\n",
        "plt.ylabel(\"\")\n",
        "plt.show()\n",
        "\n",
        "\n",
        "print(\"\\nÖrnek tahminler:\")\n",
        "print(df[[\"Temiz_Yorum\", \"Tahmin\"]].head(15))\n"
      ],
      "metadata": {
        "id": "dbsJdFWaGC3X",
        "colab": {
          "base_uri": "https://localhost:8080/",
          "height": 728
        },
        "outputId": "7f758c47-a684-4d4d-b403-d04b6b3ead49"
      },
      "execution_count": 18,
      "outputs": [
        {
          "output_type": "stream",
          "name": "stdout",
          "text": [
            "Kelime bazlı duygu analizi dağılımı:\n",
            "Tahmin\n",
            "Nötr       330\n",
            "Pozitif    112\n",
            "Negatif     74\n",
            "Name: count, dtype: int64\n"
          ]
        },
        {
          "output_type": "display_data",
          "data": {
            "text/plain": [
              "<Figure size 300x300 with 1 Axes>"
            ],
            "image/png": "[encoded data removed]"
          },
          "metadata": {}
        },
        {
          "output_type": "stream",
          "name": "stdout",
          "text": [
            "\n",
            "Örnek tahminler:\n",
            "                                          Temiz_Yorum   Tahmin\n",
            "0   derhal gereken yapilsin yeter artik ülkede aca...  Negatif\n",
            "1   başlayan soruşturma ali erbaş tan başlatılması...  Negatif\n",
            "2                   boşuna uğraşmayın onlara bi olmaz     Nötr\n",
            "3                                  akharamiler istifa  Negatif\n",
            "4   vergiden kaçınmadır vergi kaçırma değil olsa m...     Nötr\n",
            "5   herkes adamı suçlamış arkadaşlar nelere göğüs ...  Negatif\n",
            "6                      chp li olsa tutuklu yargılanır     Nötr\n",
            "7   mekke sorumlusu böyleyse türkiye sorumlusunu d...     Nötr\n",
            "8                              rüşvet alan yükseliyor  Negatif\n",
            "9   yiyin efendiler yiyin şarkısı çalsaydı alt fon...     Nötr\n",
            "10  sorun olmaz buna sayın cumhur başkanımız buna ...     Nötr\n",
            "11  kaydediyormusun demesi suçunu kabul ettiğinin ...  Negatif\n",
            "12     i şte gereken kişilerle paylaşmazsa böyle olur     Nötr\n",
            "13          i badet ediyor günümüz tipi badem bıyıklı  Negatif\n",
            "14      zor olmuyor elde saymak makina alsalardi bari     Nötr\n"
          ]
        }
      ]
    },
    {
      "cell_type": "code",
      "source": [
        "from sklearn.model_selection import train_test_split\n",
        "from sklearn.feature_extraction.text import TfidfVectorizer\n",
        "from sklearn.naive_bayes import MultinomialNB\n",
        "from sklearn.linear_model import LogisticRegression\n",
        "from sklearn.svm import LinearSVC\n",
        "from sklearn.metrics import classification_report, accuracy_score\n",
        "results = []\n",
        "df = pd.read_csv(\"/content/veriler_temiz.csv\")\n",
        "print(df.head())\n",
        "\n",
        "\n",
        "X = df[\"Yorum\"]\n",
        "y = df[\"Duygu\"]   # 1Negatif 2Nötr 3Pozitif\n",
        "\n",
        "\n",
        "X_train, X_test, y_train, y_test = train_test_split(\n",
        "    X, y, test_size=0.2, random_state=42, stratify=y\n",
        ")\n",
        "\n",
        "vectorizer = TfidfVectorizer(max_features=5000)\n",
        "X_train_tfidf = vectorizer.fit_transform(X_train)\n",
        "X_test_tfidf = vectorizer.transform(X_test)\n",
        "\n",
        "models = {\n",
        "    \"Naive Bayes\": MultinomialNB(),\n",
        "    \"Logistic Regression\": LogisticRegression(max_iter=1000),\n",
        "    \"SVM\": LinearSVC()\n",
        "}\n",
        "\n",
        "for name, model in models.items():\n",
        "    print(f\"\\n🤖 {name} 🤖\")\n",
        "    model.fit(X_train_tfidf, y_train)\n",
        "    y_pred = model.predict(X_test_tfidf)\n",
        "\n",
        "    acc = accuracy_score(y_test, y_pred)\n",
        "    print(\"Accuracy:\", acc)\n",
        "    print(classification_report(y_test, y_pred, digits=2))\n",
        "\n",
        "    report = classification_report(y_test, y_pred, output_dict=True)\n",
        "    results.append({\n",
        "        \"Model\": name,\n",
        "        \"Accuracy\": acc,\n",
        "        \"F1_Negatif\": report[\"1\"][\"f1-score\"],\n",
        "        \"F1_Nötr\": report[\"2\"][\"f1-score\"],\n",
        "        \"F1_Pozitif\": report[\"3\"][\"f1-score\"],\n",
        "    })\n",
        "\n",
        "\n",
        "results_df = pd.DataFrame(results)\n",
        "print(\"\\nSonuç Tablosu:\")\n",
        "print(results_df)\n",
        "#acc görselleştrme\n",
        "plt.figure(figsize=(4,3))\n",
        "sns.barplot(x=\"Model\", y=\"Accuracy\", data=results_df)\n",
        "plt.title(\"Model Accuracy Karşılaştırması\")\n",
        "plt.ylim(0,1)\n",
        "plt.show()\n",
        "\n",
        "#f1 sonucu görselleşirme\n",
        "f1_df = results_df.melt(id_vars=\"Model\",\n",
        "                        value_vars=[\"F1_Negatif\", \"F1_Nötr\", \"F1_Pozitif\"],\n",
        "                        var_name=\"Class\", value_name=\"F1-Score\")\n",
        "\n",
        "plt.figure(figsize=(5,3))\n",
        "sns.barplot(x=\"Model\", y=\"F1-Score\", hue=\"Class\", data=f1_df)\n",
        "plt.title(\"Her Model için F1 Skorları\")\n",
        "plt.ylim(0,1)\n",
        "plt.legend(title=\"Sınıf\")\n",
        "plt.show()\n"
      ],
      "metadata": {
        "colab": {
          "base_uri": "https://localhost:8080/",
          "height": 1000
        },
        "id": "jf3CJtnWmbz4",
        "outputId": "54d8737d-da68-442b-f45f-9159453063d4"
      },
      "execution_count": 19,
      "outputs": [
        {
          "output_type": "stream",
          "name": "stdout",
          "text": [
            "   Duygu         Yorum Yapan  \\\n",
            "0      1  @sezginsenucar9897   \n",
            "1      1        @alieralp798   \n",
            "2      1  @ufukdikilitas9297   \n",
            "3      1             @mdnmzz   \n",
            "4      1         @odin_fatih   \n",
            "\n",
            "                                               Yorum  \\\n",
            "0  DERHAL  GEREKEN YAPILSIN YA   YETER ARTIK ÜLKE...   \n",
            "1  Başlayan soruşturma Ali Erbaş tan başlatılması...   \n",
            "2            Boşuna uğraşmayın, onlara bi şey olmaz!   \n",
            "3                                 Akharamiler istifa   \n",
            "4  Vergiden kaçınmadır, vergi kaçırma değil nasıl...   \n",
            "\n",
            "                                         Temiz_Yorum  \n",
            "0  derhal gereken yapilsin yeter artik ülkede aca...  \n",
            "1  başlayan soruşturma ali erbaş tan başlatılması...  \n",
            "2                  boşuna uğraşmayın onlara bi olmaz  \n",
            "3                                 akharamiler istifa  \n",
            "4  vergiden kaçınmadır vergi kaçırma değil olsa m...  \n",
            "\n",
            "🤖 Naive Bayes 🤖\n",
            "Accuracy: 0.75\n",
            "              precision    recall  f1-score   support\n",
            "\n",
            "           1       0.73      0.81      0.77        54\n",
            "           2       0.00      0.00      0.00         8\n",
            "           3       0.77      0.81      0.79        42\n",
            "\n",
            "    accuracy                           0.75       104\n",
            "   macro avg       0.50      0.54      0.52       104\n",
            "weighted avg       0.69      0.75      0.72       104\n",
            "\n",
            "\n",
            "🤖 Logistic Regression 🤖\n",
            "Accuracy: 0.7980769230769231\n",
            "              precision    recall  f1-score   support\n",
            "\n",
            "           1       0.74      0.94      0.83        54\n",
            "           2       0.00      0.00      0.00         8\n",
            "           3       0.91      0.76      0.83        42\n",
            "\n",
            "    accuracy                           0.80       104\n",
            "   macro avg       0.55      0.57      0.55       104\n",
            "weighted avg       0.75      0.80      0.77       104\n",
            "\n",
            "\n",
            "🤖 SVM 🤖\n",
            "Accuracy: 0.8269230769230769\n",
            "              precision    recall  f1-score   support\n",
            "\n",
            "           1       0.83      0.83      0.83        54\n",
            "           2       1.00      0.38      0.55         8\n",
            "           3       0.81      0.90      0.85        42\n",
            "\n",
            "    accuracy                           0.83       104\n",
            "   macro avg       0.88      0.70      0.74       104\n",
            "weighted avg       0.84      0.83      0.82       104\n",
            "\n",
            "\n",
            "Sonuç Tablosu:\n",
            "                 Model  Accuracy  F1_Negatif   F1_Nötr  F1_Pozitif\n",
            "0          Naive Bayes  0.750000    0.771930  0.000000    0.790698\n",
            "1  Logistic Regression  0.798077    0.829268  0.000000    0.831169\n",
            "2                  SVM  0.826923    0.833333  0.545455    0.853933\n"
          ]
        },
        {
          "output_type": "stream",
          "name": "stderr",
          "text": [
            "/usr/local/lib/python3.12/dist-packages/sklearn/metrics/_classification.py:1565: UndefinedMetricWarning: Precision is ill-defined and being set to 0.0 in labels with no predicted samples. Use `zero_division` parameter to control this behavior.\n",
            "  _warn_prf(average, modifier, f\"{metric.capitalize()} is\", len(result))\n",
            "/usr/local/lib/python3.12/dist-packages/sklearn/metrics/_classification.py:1565: UndefinedMetricWarning: Precision is ill-defined and being set to 0.0 in labels with no predicted samples. Use `zero_division` parameter to control this behavior.\n",
            "  _warn_prf(average, modifier, f\"{metric.capitalize()} is\", len(result))\n",
            "/usr/local/lib/python3.12/dist-packages/sklearn/metrics/_classification.py:1565: UndefinedMetricWarning: Precision is ill-defined and being set to 0.0 in labels with no predicted samples. Use `zero_division` parameter to control this behavior.\n",
            "  _warn_prf(average, modifier, f\"{metric.capitalize()} is\", len(result))\n",
            "/usr/local/lib/python3.12/dist-packages/sklearn/metrics/_classification.py:1565: UndefinedMetricWarning: Precision is ill-defined and being set to 0.0 in labels with no predicted samples. Use `zero_division` parameter to control this behavior.\n",
            "  _warn_prf(average, modifier, f\"{metric.capitalize()} is\", len(result))\n",
            "/usr/local/lib/python3.12/dist-packages/sklearn/metrics/_classification.py:1565: UndefinedMetricWarning: Precision is ill-defined and being set to 0.0 in labels with no predicted samples. Use `zero_division` parameter to control this behavior.\n",
            "  _warn_prf(average, modifier, f\"{metric.capitalize()} is\", len(result))\n",
            "/usr/local/lib/python3.12/dist-packages/sklearn/metrics/_classification.py:1565: UndefinedMetricWarning: Precision is ill-defined and being set to 0.0 in labels with no predicted samples. Use `zero_division` parameter to control this behavior.\n",
            "  _warn_prf(average, modifier, f\"{metric.capitalize()} is\", len(result))\n",
            "/usr/local/lib/python3.12/dist-packages/sklearn/metrics/_classification.py:1565: UndefinedMetricWarning: Precision is ill-defined and being set to 0.0 in labels with no predicted samples. Use `zero_division` parameter to control this behavior.\n",
            "  _warn_prf(average, modifier, f\"{metric.capitalize()} is\", len(result))\n",
            "/usr/local/lib/python3.12/dist-packages/sklearn/metrics/_classification.py:1565: UndefinedMetricWarning: Precision is ill-defined and being set to 0.0 in labels with no predicted samples. Use `zero_division` parameter to control this behavior.\n",
            "  _warn_prf(average, modifier, f\"{metric.capitalize()} is\", len(result))\n",
            "/usr/local/lib/python3.12/dist-packages/sklearn/metrics/_classification.py:1565: UndefinedMetricWarning: Precision is ill-defined and being set to 0.0 in labels with no predicted samples. Use `zero_division` parameter to control this behavior.\n",
            "  _warn_prf(average, modifier, f\"{metric.capitalize()} is\", len(result))\n",
            "/usr/local/lib/python3.12/dist-packages/sklearn/metrics/_classification.py:1565: UndefinedMetricWarning: Precision is ill-defined and being set to 0.0 in labels with no predicted samples. Use `zero_division` parameter to control this behavior.\n",
            "  _warn_prf(average, modifier, f\"{metric.capitalize()} is\", len(result))\n",
            "/usr/local/lib/python3.12/dist-packages/sklearn/metrics/_classification.py:1565: UndefinedMetricWarning: Precision is ill-defined and being set to 0.0 in labels with no predicted samples. Use `zero_division` parameter to control this behavior.\n",
            "  _warn_prf(average, modifier, f\"{metric.capitalize()} is\", len(result))\n",
            "/usr/local/lib/python3.12/dist-packages/sklearn/metrics/_classification.py:1565: UndefinedMetricWarning: Precision is ill-defined and being set to 0.0 in labels with no predicted samples. Use `zero_division` parameter to control this behavior.\n",
            "  _warn_prf(average, modifier, f\"{metric.capitalize()} is\", len(result))\n"
          ]
        },
        {
          "output_type": "display_data",
          "data": {
            "text/plain": [
              "<Figure size 400x300 with 1 Axes>"
            ],
            "image/png": "[encoded data removed]"
          },
          "metadata": {}
        },
        {
          "output_type": "display_data",
          "data": {
            "text/plain": [
              "<Figure size 500x300 with 1 Axes>"
            ],
            "image/png": "[encoded data removed]"
          },
          "metadata": {}
        }
      ]
    },
    {
      "cell_type": "code",
      "source": [
        "!pip install catboost"
      ],
      "metadata": {
        "colab": {
          "base_uri": "https://localhost:8080/"
        },
        "id": "sR28HtluBfi0",
        "outputId": "be2d1d73-8b9a-43ee-e5bf-6b918651c65d"
      },
      "execution_count": 23,
      "outputs": [
        {
          "output_type": "stream",
          "name": "stdout",
          "text": [
            "Collecting catboost\n",
            "  Downloading catboost-1.2.8-cp312-cp312-manylinux2014_x86_64.whl.metadata (1.2 kB)\n",
            "Requirement already satisfied: graphviz in /usr/local/lib/python3.12/dist-packages (from catboost) (0.21)\n",
            "Requirement already satisfied: matplotlib in /usr/local/lib/python3.12/dist-packages (from catboost) (3.10.0)\n",
            "Requirement already satisfied: numpy<3.0,>=1.16.0 in /usr/local/lib/python3.12/dist-packages (from catboost) (2.0.2)\n",
            "Requirement already satisfied: pandas>=0.24 in /usr/local/lib/python3.12/dist-packages (from catboost) (2.2.2)\n",
            "Requirement already satisfied: scipy in /usr/local/lib/python3.12/dist-packages (from catboost) (1.16.1)\n",
            "Requirement already satisfied: plotly in /usr/local/lib/python3.12/dist-packages (from catboost) (5.24.1)\n",
            "Requirement already satisfied: six in /usr/local/lib/python3.12/dist-packages (from catboost) (1.17.0)\n",
            "Requirement already satisfied: python-dateutil>=2.8.2 in /usr/local/lib/python3.12/dist-packages (from pandas>=0.24->catboost) (2.9.0.post0)\n",
            "Requirement already satisfied: pytz>=2020.1 in /usr/local/lib/python3.12/dist-packages (from pandas>=0.24->catboost) (2025.2)\n",
            "Requirement already satisfied: tzdata>=2022.7 in /usr/local/lib/python3.12/dist-packages (from pandas>=0.24->catboost) (2025.2)\n",
            "Requirement already satisfied: contourpy>=1.0.1 in /usr/local/lib/python3.12/dist-packages (from matplotlib->catboost) (1.3.3)\n",
            "Requirement already satisfied: cycler>=0.10 in /usr/local/lib/python3.12/dist-packages (from matplotlib->catboost) (0.12.1)\n",
            "Requirement already satisfied: fonttools>=4.22.0 in /usr/local/lib/python3.12/dist-packages (from matplotlib->catboost) (4.59.2)\n",
            "Requirement already satisfied: kiwisolver>=1.3.1 in /usr/local/lib/python3.12/dist-packages (from matplotlib->catboost) (1.4.9)\n",
            "Requirement already satisfied: packaging>=20.0 in /usr/local/lib/python3.12/dist-packages (from matplotlib->catboost) (25.0)\n",
            "Requirement already satisfied: pillow>=8 in /usr/local/lib/python3.12/dist-packages (from matplotlib->catboost) (11.3.0)\n",
            "Requirement already satisfied: pyparsing>=2.3.1 in /usr/local/lib/python3.12/dist-packages (from matplotlib->catboost) (3.2.3)\n",
            "Requirement already satisfied: tenacity>=6.2.0 in /usr/local/lib/python3.12/dist-packages (from plotly->catboost) (8.5.0)\n",
            "Downloading catboost-1.2.8-cp312-cp312-manylinux2014_x86_64.whl (99.2 MB)\n",
            "\u001b[2K   \u001b[90m━━━━━━━━━━━━━━━━━━━━━━━━━━━━━━━━━━━━━━━━\u001b[0m \u001b[32m99.2/99.2 MB\u001b[0m \u001b[31m8.6 MB/s\u001b[0m eta \u001b[36m0:00:00\u001b[0m\n",
            "\u001b[?25hInstalling collected packages: catboost\n",
            "Successfully installed catboost-1.2.8\n"
          ]
        }
      ]
    },
    {
      "cell_type": "code",
      "source": [
        "import pandas as pd\n",
        "from sklearn.model_selection import train_test_split\n",
        "from sklearn.feature_extraction.text import TfidfVectorizer\n",
        "from sklearn.metrics import classification_report, confusion_matrix\n",
        "from catboost import CatBoostClassifier\n",
        "\n",
        "# 1. Veriyi oku\n",
        "df = pd.read_csv(\"/content/veriler_temiz.csv\")\n",
        "\n",
        "# 2. Gerekli sütunları al\n",
        "df = df[['Temiz_Yorum', 'Duygu']]\n",
        "X = df['Temiz_Yorum']\n",
        "y = df['Duygu']\n",
        "\n",
        "# 3. Eğitim / test böl\n",
        "X_train, X_test, y_train, y_test = train_test_split(\n",
        "    X, y, test_size=0.2, random_state=42, stratify=y\n",
        ")\n",
        "\n",
        "# 4. TF-IDF vektörleştirme\n",
        "vectorizer = TfidfVectorizer(max_features=5000)\n",
        "X_train_vec = vectorizer.fit_transform(X_train)\n",
        "X_test_vec = vectorizer.transform(X_test)\n",
        "\n",
        "# 5. CatBoost modelini tanımla\n",
        "model = CatBoostClassifier(\n",
        "    iterations=500,        # ağaç sayısı\n",
        "    learning_rate=0.1,     # öğrenme hızı\n",
        "    depth=6,               # ağaç derinliği\n",
        "    loss_function='MultiClass',\n",
        "    eval_metric='TotalF1',\n",
        "    verbose=100,           # her 100 iterasyonda çıktı ver\n",
        "    random_seed=42\n",
        ")\n",
        "\n",
        "# 6. Modeli eğit\n",
        "model.fit(X_train_vec, y_train, eval_set=(X_test_vec, y_test))\n",
        "\n",
        "# 7. Tahmin\n",
        "y_pred = model.predict(X_test_vec)\n",
        "\n",
        "# 8. Rapor\n",
        "print(\"\\nSınıflandırma Raporu:\\n\")\n",
        "print(classification_report(y_test, y_pred, target_names=[\"Negatif\", \"Notr\", \"Pozitif\"]))\n",
        "\n",
        "print(\"\\nKarmaşıklık Matrisi:\\n\")\n",
        "print(confusion_matrix(y_test, y_pred))\n"
      ],
      "metadata": {
        "colab": {
          "base_uri": "https://localhost:8080/"
        },
        "id": "N0bZvnSrAxE8",
        "outputId": "5172487e-118e-4c2e-c4ab-ce56fc504b19"
      },
      "execution_count": 24,
      "outputs": [
        {
          "output_type": "stream",
          "name": "stdout",
          "text": [
            "0:\tlearn: 0.5821868\ttest: 0.5635757\tbest: 0.5635757 (0)\ttotal: 90.6ms\tremaining: 45.2s\n",
            "100:\tlearn: 0.7346923\ttest: 0.6958580\tbest: 0.6958580 (98)\ttotal: 4.53s\tremaining: 17.9s\n",
            "200:\tlearn: 0.8102117\ttest: 0.7075786\tbest: 0.7177012 (146)\ttotal: 7.74s\tremaining: 11.5s\n",
            "300:\tlearn: 0.8525641\ttest: 0.7075786\tbest: 0.7177012 (146)\ttotal: 11.1s\tremaining: 7.37s\n",
            "400:\tlearn: 0.8858174\ttest: 0.7086154\tbest: 0.7268198 (366)\ttotal: 15.2s\tremaining: 3.76s\n",
            "499:\tlearn: 0.9098967\ttest: 0.7185582\tbest: 0.7268198 (366)\ttotal: 18.2s\tremaining: 0us\n",
            "\n",
            "bestTest = 0.7268197771\n",
            "bestIteration = 366\n",
            "\n",
            "Shrink model to first 367 iterations.\n",
            "\n",
            "Sınıflandırma Raporu:\n",
            "\n",
            "              precision    recall  f1-score   support\n",
            "\n",
            "     Negatif       0.70      0.94      0.80        54\n",
            "        Notr       0.00      0.00      0.00         8\n",
            "     Pozitif       0.90      0.67      0.77        42\n",
            "\n",
            "    accuracy                           0.76       104\n",
            "   macro avg       0.53      0.54      0.52       104\n",
            "weighted avg       0.73      0.76      0.73       104\n",
            "\n",
            "\n",
            "Karmaşıklık Matrisi:\n",
            "\n",
            "[[51  0  3]\n",
            " [ 8  0  0]\n",
            " [14  0 28]]\n"
          ]
        },
        {
          "output_type": "stream",
          "name": "stderr",
          "text": [
            "/usr/local/lib/python3.12/dist-packages/sklearn/metrics/_classification.py:1565: UndefinedMetricWarning: Precision is ill-defined and being set to 0.0 in labels with no predicted samples. Use `zero_division` parameter to control this behavior.\n",
            "  _warn_prf(average, modifier, f\"{metric.capitalize()} is\", len(result))\n",
            "/usr/local/lib/python3.12/dist-packages/sklearn/metrics/_classification.py:1565: UndefinedMetricWarning: Precision is ill-defined and being set to 0.0 in labels with no predicted samples. Use `zero_division` parameter to control this behavior.\n",
            "  _warn_prf(average, modifier, f\"{metric.capitalize()} is\", len(result))\n",
            "/usr/local/lib/python3.12/dist-packages/sklearn/metrics/_classification.py:1565: UndefinedMetricWarning: Precision is ill-defined and being set to 0.0 in labels with no predicted samples. Use `zero_division` parameter to control this behavior.\n",
            "  _warn_prf(average, modifier, f\"{metric.capitalize()} is\", len(result))\n"
          ]
        }
      ]
    },
    {
      "cell_type": "code",
      "source": [
        "import pandas as pd\n",
        "from sklearn.model_selection import train_test_split\n",
        "from sklearn.feature_extraction.text import TfidfVectorizer\n",
        "from sklearn.metrics import classification_report, confusion_matrix\n",
        "from sklearn.ensemble import AdaBoostClassifier\n",
        "from sklearn.tree import DecisionTreeClassifier\n",
        "\n",
        "# 1. Veriyi oku\n",
        "df = pd.read_csv(\"/content/veriler_temiz.csv\")\n",
        "\n",
        "# 2. Gerekli sütunları al\n",
        "df = df[['Temiz_Yorum', 'Duygu']]\n",
        "X = df['Temiz_Yorum']\n",
        "y = df['Duygu']\n",
        "\n",
        "# 3. Eğitim / test böl\n",
        "X_train, X_test, y_train, y_test = train_test_split(\n",
        "    X, y, test_size=0.2, random_state=42, stratify=y\n",
        ")\n",
        "\n",
        "# 4. TF-IDF vektörleştirme\n",
        "vectorizer = TfidfVectorizer(max_features=5000)\n",
        "X_train_vec = vectorizer.fit_transform(X_train)\n",
        "X_test_vec = vectorizer.transform(X_test)\n",
        "\n",
        "# 5. AdaBoost modelini tanımla\n",
        "# Zayıf öğrenici olarak küçük derinlikli karar ağacı kullanıyoruz\n",
        "base_estimator = DecisionTreeClassifier(max_depth=1, random_state=42)\n",
        "\n",
        "model = AdaBoostClassifier(\n",
        "    estimator=base_estimator,\n",
        "    n_estimators=400,       # ağaç sayısı\n",
        "    learning_rate=0.9,      # öğrenme hızı\n",
        "    random_state=42\n",
        ")\n",
        "\n",
        "# 6. Modeli eğit\n",
        "model.fit(X_train_vec.toarray(), y_train)  # AdaBoost sparse desteklemez → array'e çevirdik\n",
        "\n",
        "# 7. Tahmin\n",
        "y_pred = model.predict(X_test_vec.toarray())\n",
        "\n",
        "# 8. Rapor\n",
        "print(\"\\nSınıflandırma Raporu:\\n\")\n",
        "print(classification_report(y_test, y_pred, target_names=[\"Negatif\", \"Notr\", \"Pozitif\"]))\n",
        "\n",
        "print(\"\\nKarmaşıklık Matrisi:\\n\")\n",
        "print(confusion_matrix(y_test, y_pred))\n"
      ],
      "metadata": {
        "colab": {
          "base_uri": "https://localhost:8080/"
        },
        "id": "4OJtIK6YB8Xd",
        "outputId": "b5fc866b-02bd-4154-e424-4d0928ec9c6c"
      },
      "execution_count": 30,
      "outputs": [
        {
          "output_type": "stream",
          "name": "stdout",
          "text": [
            "\n",
            "Sınıflandırma Raporu:\n",
            "\n",
            "              precision    recall  f1-score   support\n",
            "\n",
            "     Negatif       0.68      0.91      0.78        54\n",
            "        Notr       0.00      0.00      0.00         8\n",
            "     Pozitif       0.84      0.64      0.73        42\n",
            "\n",
            "    accuracy                           0.73       104\n",
            "   macro avg       0.51      0.52      0.50       104\n",
            "weighted avg       0.69      0.73      0.70       104\n",
            "\n",
            "\n",
            "Karmaşıklık Matrisi:\n",
            "\n",
            "[[49  0  5]\n",
            " [ 8  0  0]\n",
            " [15  0 27]]\n"
          ]
        },
        {
          "output_type": "stream",
          "name": "stderr",
          "text": [
            "/usr/local/lib/python3.12/dist-packages/sklearn/metrics/_classification.py:1565: UndefinedMetricWarning: Precision is ill-defined and being set to 0.0 in labels with no predicted samples. Use `zero_division` parameter to control this behavior.\n",
            "  _warn_prf(average, modifier, f\"{metric.capitalize()} is\", len(result))\n",
            "/usr/local/lib/python3.12/dist-packages/sklearn/metrics/_classification.py:1565: UndefinedMetricWarning: Precision is ill-defined and being set to 0.0 in labels with no predicted samples. Use `zero_division` parameter to control this behavior.\n",
            "  _warn_prf(average, modifier, f\"{metric.capitalize()} is\", len(result))\n",
            "/usr/local/lib/python3.12/dist-packages/sklearn/metrics/_classification.py:1565: UndefinedMetricWarning: Precision is ill-defined and being set to 0.0 in labels with no predicted samples. Use `zero_division` parameter to control this behavior.\n",
            "  _warn_prf(average, modifier, f\"{metric.capitalize()} is\", len(result))\n"
          ]
        }
      ]
    },
    {
      "cell_type": "code",
      "source": [
        "import pandas as pd\n",
        "from sklearn.model_selection import train_test_split\n",
        "from sklearn.feature_extraction.text import TfidfVectorizer\n",
        "from sklearn.metrics import classification_report, confusion_matrix\n",
        "from lightgbm import LGBMClassifier\n",
        "\n",
        "# 1. Veriyi oku\n",
        "df = pd.read_csv(\"/content/veriler_temiz.csv\")\n",
        "\n",
        "# 2. Sadece gerekli sütunları al\n",
        "df = df[['Temiz_Yorum', 'Duygu']]\n",
        "X = df['Temiz_Yorum']\n",
        "y = df['Duygu']\n",
        "\n",
        "# 3. Eğitim / test böl\n",
        "X_train, X_test, y_train, y_test = train_test_split(\n",
        "    X, y, test_size=0.2, random_state=42, stratify=y\n",
        ")\n",
        "\n",
        "# 4. TF-IDF vektörleştirme\n",
        "vectorizer = TfidfVectorizer(max_features=5000)\n",
        "X_train_vec = vectorizer.fit_transform(X_train)\n",
        "X_test_vec = vectorizer.transform(X_test)\n",
        "\n",
        "# 5. LightGBM classifier\n",
        "model = LGBMClassifier(\n",
        "    objective='multiclass',\n",
        "    num_class=len(y.unique()),\n",
        "    learning_rate=0.1,\n",
        "    n_estimators=200,\n",
        "    random_state=42,\n",
        "    verbose=-1\n",
        ")\n",
        "\n",
        "# 6. Modeli eğit\n",
        "model.fit(X_train_vec, y_train,\n",
        "          eval_set=[(X_test_vec, y_test)],\n",
        "          eval_metric='multi_logloss',\n",
        "          )\n",
        "\n",
        "# 7. Tahmin\n",
        "y_pred = model.predict(X_test_vec)\n",
        "\n",
        "# 8. Rapor\n",
        "print(\"\\nSınıflandırma Raporu:\\n\")\n",
        "print(classification_report(y_test, y_pred, target_names=[\"Negatif\", \"Notr\", \"Pozitif\"]))\n",
        "\n",
        "print(\"\\nKarmaşıklık Matrisi:\\n\")\n",
        "print(confusion_matrix(y_test, y_pred))\n"
      ],
      "metadata": {
        "colab": {
          "base_uri": "https://localhost:8080/"
        },
        "id": "CneGWP_NCRFd",
        "outputId": "0bcbbad6-2fd8-486f-93f7-fce3c9890175"
      },
      "execution_count": 33,
      "outputs": [
        {
          "output_type": "stream",
          "name": "stdout",
          "text": [
            "\n",
            "Sınıflandırma Raporu:\n",
            "\n",
            "              precision    recall  f1-score   support\n",
            "\n",
            "     Negatif       0.60      0.83      0.70        54\n",
            "        Notr       0.00      0.00      0.00         8\n",
            "     Pozitif       0.72      0.43      0.54        42\n",
            "\n",
            "    accuracy                           0.61       104\n",
            "   macro avg       0.44      0.42      0.41       104\n",
            "weighted avg       0.60      0.61      0.58       104\n",
            "\n",
            "\n",
            "Karmaşıklık Matrisi:\n",
            "\n",
            "[[45  2  7]\n",
            " [ 8  0  0]\n",
            " [22  2 18]]\n"
          ]
        },
        {
          "output_type": "stream",
          "name": "stderr",
          "text": [
            "/usr/local/lib/python3.12/dist-packages/sklearn/utils/validation.py:2739: UserWarning: X does not have valid feature names, but LGBMClassifier was fitted with feature names\n",
            "  warnings.warn(\n"
          ]
        }
      ]
    },
    {
      "cell_type": "code",
      "source": [
        "import pandas as pd\n",
        "from sklearn.model_selection import train_test_split\n",
        "from sklearn.feature_extraction.text import TfidfVectorizer\n",
        "from sklearn.metrics import classification_report, confusion_matrix\n",
        "from sklearn.ensemble import RandomForestClassifier\n",
        "\n",
        "# 1. Veriyi oku\n",
        "df = pd.read_csv(\"/content/veriler_temiz.csv\")\n",
        "\n",
        "# 2. Gerekli sütunları al\n",
        "df = df[['Temiz_Yorum', 'Duygu']]\n",
        "X = df['Temiz_Yorum']\n",
        "y = df['Duygu']\n",
        "\n",
        "# 3. Eğitim / test böl\n",
        "X_train, X_test, y_train, y_test = train_test_split(\n",
        "    X, y, test_size=0.2, random_state=42, stratify=y\n",
        ")\n",
        "\n",
        "# 4. TF-IDF vektörleştirme\n",
        "vectorizer = TfidfVectorizer(max_features=5000)\n",
        "X_train_vec = vectorizer.fit_transform(X_train)\n",
        "X_test_vec = vectorizer.transform(X_test)\n",
        "\n",
        "# 5. Random Forest classifier\n",
        "model = RandomForestClassifier(\n",
        "    n_estimators=300,   # ağaç sayısı\n",
        "    max_depth=None,     # sınırsız derinlik\n",
        "    random_state=42,\n",
        "    n_jobs=-1           # paralel çalıştır\n",
        ")\n",
        "\n",
        "# 6. Modeli eğit\n",
        "model.fit(X_train_vec, y_train)\n",
        "\n",
        "# 7. Tahmin\n",
        "y_pred = model.predict(X_test_vec)\n",
        "\n",
        "# 8. Rapor\n",
        "print(\"\\nSınıflandırma Raporu:\\n\")\n",
        "print(classification_report(y_test, y_pred, target_names=[\"Negatif\", \"Notr\", \"Pozitif\"]))\n",
        "\n",
        "print(\"\\nKarmaşıklık Matrisi:\\n\")\n",
        "print(confusion_matrix(y_test, y_pred))\n"
      ],
      "metadata": {
        "colab": {
          "base_uri": "https://localhost:8080/"
        },
        "id": "BfVy736_DccF",
        "outputId": "3a8adf12-1b11-4141-8a3c-5f53e143b2ac"
      },
      "execution_count": 19,
      "outputs": [
        {
          "output_type": "stream",
          "name": "stdout",
          "text": [
            "\n",
            "Sınıflandırma Raporu:\n",
            "\n",
            "              precision    recall  f1-score   support\n",
            "\n",
            "     Negatif       0.75      0.94      0.84        54\n",
            "        Notr       0.75      0.38      0.50         8\n",
            "     Pozitif       0.94      0.71      0.81        42\n",
            "\n",
            "    accuracy                           0.81       104\n",
            "   macro avg       0.81      0.68      0.72       104\n",
            "weighted avg       0.83      0.81      0.80       104\n",
            "\n",
            "\n",
            "Karmaşıklık Matrisi:\n",
            "\n",
            "[[51  1  2]\n",
            " [ 5  3  0]\n",
            " [12  0 30]]\n"
          ]
        }
      ]
    },
    {
      "cell_type": "code",
      "source": [
        "!pip install"
      ],
      "metadata": {
        "id": "sC2qVwadOIol"
      },
      "execution_count": null,
      "outputs": []
    },
    {
      "cell_type": "code",
      "source": [
        "import pandas as pd\n",
        "from sklearn.model_selection import train_test_split\n",
        "from sklearn.feature_extraction.text import TfidfVectorizer\n",
        "from sklearn.preprocessing import LabelEncoder\n",
        "from sklearn.metrics import classification_report, confusion_matrix\n",
        "import tensorflow as tf\n",
        "from tensorflow.keras import Sequential\n",
        "from tensorflow.keras.layers import Dense, Dropout\n",
        "\n",
        "# 1. Veriyi oku\n",
        "df = pd.read_csv(\"/content/veriler_temiz.csv\")\n",
        "\n",
        "# 2. Gerekli sütunları al\n",
        "df = df[['Temiz_Yorum', 'Duygu']]\n",
        "X = df['Temiz_Yorum']\n",
        "y = df['Duygu']\n",
        "\n",
        "# 3. Label encoding (çünkü ANN one-hot veya integer ister)\n",
        "encoder = LabelEncoder()\n",
        "y = encoder.fit_transform(y)   # Negatif=0, Notr=1, Pozitif=2 gibi\n",
        "\n",
        "# 4. Eğitim / test böl\n",
        "X_train, X_test, y_train, y_test = train_test_split(\n",
        "    X, y, test_size=0.2, random_state=42, stratify=y\n",
        ")\n",
        "\n",
        "# 5. TF-IDF vektörleştirme\n",
        "vectorizer = TfidfVectorizer(max_features=5000)\n",
        "X_train_vec = vectorizer.fit_transform(X_train).toarray()\n",
        "X_test_vec = vectorizer.transform(X_test).toarray()\n",
        "\n",
        "# 6. ANN modeli\n",
        "model = Sequential([\n",
        "    Dense(256, activation='relu', input_shape=(X_train_vec.shape[1],)),\n",
        "    Dropout(0.3),\n",
        "    Dense(128, activation='relu'),\n",
        "    Dropout(0.3),\n",
        "    Dense(3, activation='softmax')  # 3 sınıf için çıkış\n",
        "])\n",
        "\n",
        "model.compile(optimizer='adam',\n",
        "              loss='sparse_categorical_crossentropy',\n",
        "              metrics=['accuracy'])\n",
        "\n",
        "# 7. Eğit\n",
        "history = model.fit(\n",
        "    X_train_vec, y_train,\n",
        "    epochs=30,\n",
        "    batch_size=10,\n",
        "    validation_data=(X_test_vec, y_test),\n",
        "    verbose=1\n",
        ")\n",
        "\n",
        "# 8. Tahmin\n",
        "y_pred_probs = model.predict(X_test_vec)\n",
        "y_pred = y_pred_probs.argmax(axis=1)\n",
        "\n",
        "# 9. Rapor\n",
        "print(\"\\nSınıflandırma Raporu:\\n\")\n",
        "print(classification_report(y_test, y_pred, target_names=[\"Negatif\", \"Notr\", \"Pozitif\"]))\n",
        "\n",
        "print(\"\\nKarmaşıklık Matrisi:\\n\")\n",
        "print(confusion_matrix(y_test, y_pred))\n"
      ],
      "metadata": {
        "colab": {
          "base_uri": "https://localhost:8080/"
        },
        "id": "6Btj9ax0NxOy",
        "outputId": "e5115b6d-5357-4a50-96ca-e4e8795ae0c8"
      },
      "execution_count": 26,
      "outputs": [
        {
          "output_type": "stream",
          "name": "stdout",
          "text": [
            "Epoch 1/30\n"
          ]
        },
        {
          "output_type": "stream",
          "name": "stderr",
          "text": [
            "/usr/local/lib/python3.12/dist-packages/keras/src/layers/core/dense.py:93: UserWarning: Do not pass an `input_shape`/`input_dim` argument to a layer. When using Sequential models, prefer using an `Input(shape)` object as the first layer in the model instead.\n",
            "  super().__init__(activity_regularizer=activity_regularizer, **kwargs)\n"
          ]
        },
        {
          "output_type": "stream",
          "name": "stdout",
          "text": [
            "\u001b[1m42/42\u001b[0m \u001b[32m━━━━━━━━━━━━━━━━━━━━\u001b[0m\u001b[37m\u001b[0m \u001b[1m6s\u001b[0m 65ms/step - accuracy: 0.4707 - loss: 1.0412 - val_accuracy: 0.6635 - val_loss: 0.8724\n",
            "Epoch 2/30\n",
            "\u001b[1m42/42\u001b[0m \u001b[32m━━━━━━━━━━━━━━━━━━━━\u001b[0m\u001b[37m\u001b[0m \u001b[1m0s\u001b[0m 4ms/step - accuracy: 0.6905 - loss: 0.7614 - val_accuracy: 0.7404 - val_loss: 0.6859\n",
            "Epoch 3/30\n",
            "\u001b[1m42/42\u001b[0m \u001b[32m━━━━━━━━━━━━━━━━━━━━\u001b[0m\u001b[37m\u001b[0m \u001b[1m0s\u001b[0m 4ms/step - accuracy: 0.9170 - loss: 0.4003 - val_accuracy: 0.7885 - val_loss: 0.5973\n",
            "Epoch 4/30\n",
            "\u001b[1m42/42\u001b[0m \u001b[32m━━━━━━━━━━━━━━━━━━━━\u001b[0m\u001b[37m\u001b[0m \u001b[1m0s\u001b[0m 4ms/step - accuracy: 0.9008 - loss: 0.2020 - val_accuracy: 0.7788 - val_loss: 0.6434\n",
            "Epoch 5/30\n",
            "\u001b[1m42/42\u001b[0m \u001b[32m━━━━━━━━━━━━━━━━━━━━\u001b[0m\u001b[37m\u001b[0m \u001b[1m0s\u001b[0m 4ms/step - accuracy: 0.9560 - loss: 0.1142 - val_accuracy: 0.7885 - val_loss: 0.6635\n",
            "Epoch 6/30\n",
            "\u001b[1m42/42\u001b[0m \u001b[32m━━━━━━━━━━━━━━━━━━━━\u001b[0m\u001b[37m\u001b[0m \u001b[1m0s\u001b[0m 4ms/step - accuracy: 0.9977 - loss: 0.0536 - val_accuracy: 0.7404 - val_loss: 0.7940\n",
            "Epoch 7/30\n",
            "\u001b[1m42/42\u001b[0m \u001b[32m━━━━━━━━━━━━━━━━━━━━\u001b[0m\u001b[37m\u001b[0m \u001b[1m0s\u001b[0m 4ms/step - accuracy: 0.9977 - loss: 0.0247 - val_accuracy: 0.8173 - val_loss: 0.7647\n",
            "Epoch 8/30\n",
            "\u001b[1m42/42\u001b[0m \u001b[32m━━━━━━━━━━━━━━━━━━━━\u001b[0m\u001b[37m\u001b[0m \u001b[1m0s\u001b[0m 4ms/step - accuracy: 0.9998 - loss: 0.0101 - val_accuracy: 0.8173 - val_loss: 0.8040\n",
            "Epoch 9/30\n",
            "\u001b[1m42/42\u001b[0m \u001b[32m━━━━━━━━━━━━━━━━━━━━\u001b[0m\u001b[37m\u001b[0m \u001b[1m0s\u001b[0m 4ms/step - accuracy: 0.9994 - loss: 0.0100 - val_accuracy: 0.8173 - val_loss: 0.8046\n",
            "Epoch 10/30\n",
            "\u001b[1m42/42\u001b[0m \u001b[32m━━━━━━━━━━━━━━━━━━━━\u001b[0m\u001b[37m\u001b[0m \u001b[1m0s\u001b[0m 4ms/step - accuracy: 0.9991 - loss: 0.0089 - val_accuracy: 0.7500 - val_loss: 0.8520\n",
            "Epoch 11/30\n",
            "\u001b[1m42/42\u001b[0m \u001b[32m━━━━━━━━━━━━━━━━━━━━\u001b[0m\u001b[37m\u001b[0m \u001b[1m0s\u001b[0m 4ms/step - accuracy: 0.9963 - loss: 0.0066 - val_accuracy: 0.8173 - val_loss: 0.8425\n",
            "Epoch 12/30\n",
            "\u001b[1m42/42\u001b[0m \u001b[32m━━━━━━━━━━━━━━━━━━━━\u001b[0m\u001b[37m\u001b[0m \u001b[1m0s\u001b[0m 4ms/step - accuracy: 0.9912 - loss: 0.0150 - val_accuracy: 0.8173 - val_loss: 0.8191\n",
            "Epoch 13/30\n",
            "\u001b[1m42/42\u001b[0m \u001b[32m━━━━━━━━━━━━━━━━━━━━\u001b[0m\u001b[37m\u001b[0m \u001b[1m0s\u001b[0m 4ms/step - accuracy: 0.9983 - loss: 0.0048 - val_accuracy: 0.8173 - val_loss: 0.8397\n",
            "Epoch 14/30\n",
            "\u001b[1m42/42\u001b[0m \u001b[32m━━━━━━━━━━━━━━━━━━━━\u001b[0m\u001b[37m\u001b[0m \u001b[1m0s\u001b[0m 5ms/step - accuracy: 0.9990 - loss: 0.0042 - val_accuracy: 0.8173 - val_loss: 0.8325\n",
            "Epoch 15/30\n",
            "\u001b[1m42/42\u001b[0m \u001b[32m━━━━━━━━━━━━━━━━━━━━\u001b[0m\u001b[37m\u001b[0m \u001b[1m0s\u001b[0m 4ms/step - accuracy: 0.9991 - loss: 0.0058 - val_accuracy: 0.7981 - val_loss: 0.8858\n",
            "Epoch 16/30\n",
            "\u001b[1m42/42\u001b[0m \u001b[32m━━━━━━━━━━━━━━━━━━━━\u001b[0m\u001b[37m\u001b[0m \u001b[1m0s\u001b[0m 4ms/step - accuracy: 0.9903 - loss: 0.0126 - val_accuracy: 0.7404 - val_loss: 0.9523\n",
            "Epoch 17/30\n",
            "\u001b[1m42/42\u001b[0m \u001b[32m━━━━━━━━━━━━━━━━━━━━\u001b[0m\u001b[37m\u001b[0m \u001b[1m0s\u001b[0m 4ms/step - accuracy: 0.9994 - loss: 0.0016 - val_accuracy: 0.7788 - val_loss: 0.9496\n",
            "Epoch 18/30\n",
            "\u001b[1m42/42\u001b[0m \u001b[32m━━━━━━━━━━━━━━━━━━━━\u001b[0m\u001b[37m\u001b[0m \u001b[1m0s\u001b[0m 4ms/step - accuracy: 0.9983 - loss: 0.0034 - val_accuracy: 0.8269 - val_loss: 0.8598\n",
            "Epoch 19/30\n",
            "\u001b[1m42/42\u001b[0m \u001b[32m━━━━━━━━━━━━━━━━━━━━\u001b[0m\u001b[37m\u001b[0m \u001b[1m0s\u001b[0m 4ms/step - accuracy: 0.9934 - loss: 0.0088 - val_accuracy: 0.8269 - val_loss: 0.8830\n",
            "Epoch 20/30\n",
            "\u001b[1m42/42\u001b[0m \u001b[32m━━━━━━━━━━━━━━━━━━━━\u001b[0m\u001b[37m\u001b[0m \u001b[1m0s\u001b[0m 4ms/step - accuracy: 0.9986 - loss: 0.0027 - val_accuracy: 0.7885 - val_loss: 0.9266\n",
            "Epoch 21/30\n",
            "\u001b[1m42/42\u001b[0m \u001b[32m━━━━━━━━━━━━━━━━━━━━\u001b[0m\u001b[37m\u001b[0m \u001b[1m0s\u001b[0m 4ms/step - accuracy: 1.0000 - loss: 0.0013 - val_accuracy: 0.8269 - val_loss: 0.8766\n",
            "Epoch 22/30\n",
            "\u001b[1m42/42\u001b[0m \u001b[32m━━━━━━━━━━━━━━━━━━━━\u001b[0m\u001b[37m\u001b[0m \u001b[1m0s\u001b[0m 4ms/step - accuracy: 0.9980 - loss: 0.0076 - val_accuracy: 0.7885 - val_loss: 0.9319\n",
            "Epoch 23/30\n",
            "\u001b[1m42/42\u001b[0m \u001b[32m━━━━━━━━━━━━━━━━━━━━\u001b[0m\u001b[37m\u001b[0m \u001b[1m0s\u001b[0m 4ms/step - accuracy: 0.9952 - loss: 0.0116 - val_accuracy: 0.8269 - val_loss: 0.8803\n",
            "Epoch 24/30\n",
            "\u001b[1m42/42\u001b[0m \u001b[32m━━━━━━━━━━━━━━━━━━━━\u001b[0m\u001b[37m\u001b[0m \u001b[1m0s\u001b[0m 4ms/step - accuracy: 0.9952 - loss: 0.0079 - val_accuracy: 0.8077 - val_loss: 0.9159\n",
            "Epoch 25/30\n",
            "\u001b[1m42/42\u001b[0m \u001b[32m━━━━━━━━━━━━━━━━━━━━\u001b[0m\u001b[37m\u001b[0m \u001b[1m0s\u001b[0m 4ms/step - accuracy: 0.9988 - loss: 0.0039 - val_accuracy: 0.8173 - val_loss: 0.8918\n",
            "Epoch 26/30\n",
            "\u001b[1m42/42\u001b[0m \u001b[32m━━━━━━━━━━━━━━━━━━━━\u001b[0m\u001b[37m\u001b[0m \u001b[1m0s\u001b[0m 4ms/step - accuracy: 0.9985 - loss: 0.0069 - val_accuracy: 0.7981 - val_loss: 0.9453\n",
            "Epoch 27/30\n",
            "\u001b[1m42/42\u001b[0m \u001b[32m━━━━━━━━━━━━━━━━━━━━\u001b[0m\u001b[37m\u001b[0m \u001b[1m0s\u001b[0m 4ms/step - accuracy: 0.9913 - loss: 0.0299 - val_accuracy: 0.8173 - val_loss: 0.8884\n",
            "Epoch 28/30\n",
            "\u001b[1m42/42\u001b[0m \u001b[32m━━━━━━━━━━━━━━━━━━━━\u001b[0m\u001b[37m\u001b[0m \u001b[1m0s\u001b[0m 4ms/step - accuracy: 0.9890 - loss: 0.0100 - val_accuracy: 0.8173 - val_loss: 0.9037\n",
            "Epoch 29/30\n",
            "\u001b[1m42/42\u001b[0m \u001b[32m━━━━━━━━━━━━━━━━━━━━\u001b[0m\u001b[37m\u001b[0m \u001b[1m0s\u001b[0m 4ms/step - accuracy: 0.9987 - loss: 0.0053 - val_accuracy: 0.8173 - val_loss: 0.8758\n",
            "Epoch 30/30\n",
            "\u001b[1m42/42\u001b[0m \u001b[32m━━━━━━━━━━━━━━━━━━━━\u001b[0m\u001b[37m\u001b[0m \u001b[1m0s\u001b[0m 4ms/step - accuracy: 0.9973 - loss: 0.0041 - val_accuracy: 0.8173 - val_loss: 0.8948\n",
            "\u001b[1m4/4\u001b[0m \u001b[32m━━━━━━━━━━━━━━━━━━━━\u001b[0m\u001b[37m\u001b[0m \u001b[1m0s\u001b[0m 61ms/step\n",
            "\n",
            "Sınıflandırma Raporu:\n",
            "\n",
            "              precision    recall  f1-score   support\n",
            "\n",
            "     Negatif       0.84      0.80      0.82        54\n",
            "        Notr       1.00      0.38      0.55         8\n",
            "     Pozitif       0.78      0.93      0.85        42\n",
            "\n",
            "    accuracy                           0.82       104\n",
            "   macro avg       0.87      0.70      0.74       104\n",
            "weighted avg       0.83      0.82      0.81       104\n",
            "\n",
            "\n",
            "Karmaşıklık Matrisi:\n",
            "\n",
            "[[43  0 11]\n",
            " [ 5  3  0]\n",
            " [ 3  0 39]]\n"
          ]
        }
      ]
    },
    {
      "cell_type": "code",
      "source": [],
      "metadata": {
        "id": "8yz-UK4ANlhq"
      },
      "execution_count": null,
      "outputs": []
    }
  ]
}